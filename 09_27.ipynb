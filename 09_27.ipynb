{
 "cells": [
  {
   "cell_type": "markdown",
   "metadata": {},
   "source": [
    "## 수치 해석 보고서"
   ]
  },
  {
   "cell_type": "markdown",
   "metadata": {},
   "source": [
    "### 목적 : 간단한 Python 언어와 Markdown에 대한 이해를 평가한다."
   ]
  },
  {
   "cell_type": "markdown",
   "metadata": {},
   "source": [
    "#### 교재 p.41 2.7 연습문제"
   ]
  },
  {
   "cell_type": "markdown",
   "metadata": {},
   "source": [
    "> 1.  1, 2, 3, 4, 5의 숫자를 담을 수 있는 리스트 mylist를 만들고, 화면에서 출력하는 프로그램을 작성하시오."
   ]
  },
  {
   "cell_type": "code",
   "execution_count": 25,
   "metadata": {},
   "outputs": [
    {
     "name": "stdout",
     "output_type": "stream",
     "text": [
      "[1, 2, 3, 4, 5]\n"
     ]
    }
   ],
   "source": [
    "mylist = [1, 2, 3, 4, 5]\n",
    "print(mylist)"
   ]
  },
  {
   "cell_type": "markdown",
   "metadata": {},
   "source": [
    "> 2. 'Python', 'is','fun'을 담을 수 있는 리스트 mylist2를 만들고, 화면에서 출력하는 프로그램을 작성하시오."
   ]
  },
  {
   "cell_type": "code",
   "execution_count": 26,
   "metadata": {},
   "outputs": [
    {
     "name": "stdout",
     "output_type": "stream",
     "text": [
      "['Python', 'is', 'fun']\n"
     ]
    }
   ],
   "source": [
    "mylist2 = ['Python', 'is', 'fun']\n",
    "print(mylist2)"
   ]
  },
  {
   "cell_type": "markdown",
   "metadata": {},
   "source": [
    "> 3. 'Count', 'down', 5,4,3,2,1을 담을 수 있는 리스트 mylist3을 만들고, 화면에서 출력하는 프로그램을 작성하시오."
   ]
  },
  {
   "cell_type": "code",
   "execution_count": 27,
   "metadata": {},
   "outputs": [
    {
     "name": "stdout",
     "output_type": "stream",
     "text": [
      "['Count', 'down', 5, 4, 3, 2, 1]\n"
     ]
    }
   ],
   "source": [
    "mylist3 = ['Count', 'down', 5, 4, 3, 2, 1]\n",
    "print(mylist3)"
   ]
  },
  {
   "cell_type": "markdown",
   "metadata": {},
   "source": [
    "> 4.  1, 2, 3, 4, 5를 배열 a로 만들어서 출력하는 프로그램을 작성하시오. 단, Numpy를 시용하시오"
   ]
  },
  {
   "cell_type": "code",
   "execution_count": 28,
   "metadata": {},
   "outputs": [
    {
     "name": "stdout",
     "output_type": "stream",
     "text": [
      "[1 2 3 4 5]\n"
     ]
    }
   ],
   "source": [
    "import numpy as np\n",
    "\n",
    "a = np.array([1 ,2, 3, 4, 5])\n",
    "\n",
    "print(a)"
   ]
  },
  {
   "cell_type": "markdown",
   "metadata": {},
   "source": [
    "> 5. 91, 92, 93, 94, 95를 배열 b로 만들어서 출력하는 프로그램을 작성하시오. 단, Numpy를 시용하시오"
   ]
  },
  {
   "cell_type": "code",
   "execution_count": 29,
   "metadata": {},
   "outputs": [
    {
     "name": "stdout",
     "output_type": "stream",
     "text": [
      "[91 92 93 94 95]\n"
     ]
    }
   ],
   "source": [
    "b = np.array([91, 92, 93, 94, 95])\n",
    "\n",
    "print(b)"
   ]
  },
  {
   "cell_type": "markdown",
   "metadata": {},
   "source": [
    "> 6. 위의 문제에서 작성한 배열을 사용하여, c = a + b과 d = a - b의 결과를 출력하는 프로그램을 작성하시오. 단, Numpy를 사용하시오."
   ]
  },
  {
   "cell_type": "code",
   "execution_count": 30,
   "metadata": {},
   "outputs": [
    {
     "name": "stdout",
     "output_type": "stream",
     "text": [
      " c 값 : [ 92  94  96  98 100] d 값 : [-90 -90 -90 -90 -90]\n"
     ]
    }
   ],
   "source": [
    "c = a + b\n",
    "d = a - b\n",
    "print(f' c 값 : {c} d 값 : {d}')"
   ]
  },
  {
   "cell_type": "markdown",
   "metadata": {},
   "source": [
    "> 6. 다음과 같은 배열 A를 출력하느 ㄴ프로그램을 작성하시오. 단, Numpy를 사용하시오.\n",
    "\\begin{equation}\n",
    "    A = \\begin{bmatrix}\n",
    "        1 & 2 \\\\\n",
    "        3 & 4\n",
    "    \\end{bmatrix}\n",
    "\\end{equation}"
   ]
  },
  {
   "cell_type": "code",
   "execution_count": 31,
   "metadata": {},
   "outputs": [
    {
     "name": "stdout",
     "output_type": "stream",
     "text": [
      "[[1, 2], [3, 4]]\n"
     ]
    }
   ],
   "source": [
    "a = [[1, 2], [3, 4]]\n",
    "print(a)"
   ]
  },
  {
   "cell_type": "markdown",
   "metadata": {},
   "source": [
    "> 7. 다음과 같은 배열 B를 출력하는 프로그램을 작성하시오. 단, Numpy를 사용하시오.\n",
    "\\begin{equation}\n",
    "    B = \\begin{bmatrix}\n",
    "        1 & 2 & 99\\\\\n",
    "        3 & 4 & 100\\\\\n",
    "        5 & 6 & 101\n",
    "    \\end{bmatrix}\n",
    "\\end{equation}"
   ]
  },
  {
   "cell_type": "code",
   "execution_count": 32,
   "metadata": {},
   "outputs": [
    {
     "name": "stdout",
     "output_type": "stream",
     "text": [
      "[[1, 2, 99], [3, 4, 100], [5, 6, 101]]\n"
     ]
    }
   ],
   "source": [
    "b = [[1, 2, 99], [3, 4, 100], [5, 6, 101]]\n",
    "print(b)"
   ]
  },
  {
   "cell_type": "markdown",
   "metadata": {},
   "source": [
    "> 8. 0, 1, 2, 3이 차례로 출력되는 프로그램을 작성하시오. 단, for 문을 사용하시오."
   ]
  },
  {
   "cell_type": "code",
   "execution_count": 33,
   "metadata": {},
   "outputs": [
    {
     "name": "stdout",
     "output_type": "stream",
     "text": [
      "0\n",
      "1\n",
      "2\n",
      "3\n",
      "4\n"
     ]
    }
   ],
   "source": [
    "for i in range(5):\n",
    "    print(i)"
   ]
  },
  {
   "cell_type": "markdown",
   "metadata": {},
   "source": [
    "> 9. 변수 a 값이 90 이상이면, 'A'를 출력하고, 아니면 'B'를 출력하는 프로그램을 작성하시오. 단, if 문을 사용하시오."
   ]
  },
  {
   "cell_type": "code",
   "execution_count": 34,
   "metadata": {},
   "outputs": [
    {
     "name": "stdout",
     "output_type": "stream",
     "text": [
      "A\n"
     ]
    }
   ],
   "source": [
    "a = 91\n",
    "\n",
    "if a >= 90:\n",
    "    print('A')\n",
    "else :\n",
    "    print('B')"
   ]
  },
  {
   "cell_type": "markdown",
   "metadata": {},
   "source": [
    "> 10. 변수 b 값이 90 이상이면, 'A'를 출력하고, 80 이상이면 'B'를, 그 외의 값에 대해서는 'C'를 출력하는 프로그램을 작성하시오. 단, if 문을 사용하시오."
   ]
  },
  {
   "cell_type": "code",
   "execution_count": 35,
   "metadata": {},
   "outputs": [
    {
     "name": "stdout",
     "output_type": "stream",
     "text": [
      "C\n"
     ]
    }
   ],
   "source": [
    "b = 89\n",
    "\n",
    "if b >= 90:\n",
    "    print('B')\n",
    "else:\n",
    "    print('C')"
   ]
  },
  {
   "cell_type": "markdown",
   "metadata": {},
   "source": [
    "### 3.4 연습문제 (p60)"
   ]
  },
  {
   "cell_type": "markdown",
   "metadata": {},
   "source": [
    "> 1. This is **Python**"
   ]
  },
  {
   "cell_type": "markdown",
   "metadata": {},
   "source": [
    "> 2. Python is *fun* to learn."
   ]
  },
  {
   "cell_type": "markdown",
   "metadata": {},
   "source": [
    "> 3. **Python** is greate *computer language.*"
   ]
  },
  {
   "cell_type": "markdown",
   "metadata": {},
   "source": [
    "> 4. $\\sqrt(2) = 1.414$"
   ]
  },
  {
   "cell_type": "markdown",
   "metadata": {},
   "source": [
    "> 5. $\\frac{a}{b} = 3.14$"
   ]
  },
  {
   "cell_type": "markdown",
   "metadata": {},
   "source": [
    "> 6. $x_j^{(k+1)} = 0.4x_j^{(k)} + 1.1$"
   ]
  },
  {
   "cell_type": "markdown",
   "metadata": {},
   "source": [
    "> 7. $\\frac{x_j^{(k+1)} - x_j^{(k)}}{x_j^{(k_1)}}$"
   ]
  },
  {
   "cell_type": "markdown",
   "metadata": {},
   "source": [
    "> 8. $\\sum_{i=0}^{n}a_i = a_1 + a_2 +$"
   ]
  },
  {
   "cell_type": "markdown",
   "metadata": {},
   "source": [
    "> 9. $x = A^{-1}b$"
   ]
  },
  {
   "cell_type": "markdown",
   "metadata": {},
   "source": [
    "> 10. $E = \\sum_{i=0}^{n}(y_i - b - ax_i)^2$"
   ]
  },
  {
   "cell_type": "markdown",
   "metadata": {},
   "source": [
    "> 11. $l_{22} = \\sqrt{a_{22} - l_{21}^2}$"
   ]
  },
  {
   "cell_type": "markdown",
   "metadata": {},
   "source": [
    "> 12. $\\frac{dy}{dy} = -xe^x + 3$"
   ]
  },
  {
   "cell_type": "markdown",
   "metadata": {},
   "source": [
    "> 13. $\\int_0^1x^2dx =$"
   ]
  },
  {
   "cell_type": "markdown",
   "metadata": {},
   "source": [
    "> 14. $\n",
    "    A = \\begin{bmatrix}\n",
    "        1 & 2 \\\\\n",
    "        3 & 4\n",
    "    \\end{bmatrix}\n",
    "$"
   ]
  },
  {
   "cell_type": "markdown",
   "metadata": {},
   "source": [
    "> 15. $\n",
    "    C = \\begin{bmatrix}\n",
    "        1 & 2 \\\\\n",
    "        3 & 4\n",
    "    \\end{bmatrix}^{-1}\n",
    "    \\begin{bmatrix}\n",
    "        1 & 2 \\\\\n",
    "        3 & 4\n",
    "    \\end{bmatrix}\n",
    "$"
   ]
  }
 ],
 "metadata": {
  "kernelspec": {
   "display_name": "Python 3.10.7 64-bit",
   "language": "python",
   "name": "python3"
  },
  "language_info": {
   "codemirror_mode": {
    "name": "ipython",
    "version": 3
   },
   "file_extension": ".py",
   "mimetype": "text/x-python",
   "name": "python",
   "nbconvert_exporter": "python",
   "pygments_lexer": "ipython3",
   "version": "3.10.7"
  },
  "orig_nbformat": 4,
  "vscode": {
   "interpreter": {
    "hash": "11705b00557649c2ab2263af14686c27a24b2cec0cd0adde932d16ea4aa3435f"
   }
  }
 },
 "nbformat": 4,
 "nbformat_minor": 2
}

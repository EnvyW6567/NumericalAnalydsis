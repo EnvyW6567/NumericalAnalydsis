{
 "cells": [
  {
   "cell_type": "markdown",
   "metadata": {},
   "source": [
    "## 수치해석과 오차\n",
    "\n",
    "### 오차의 종류\n",
    "\n"
   ]
  },
  {
   "cell_type": "markdown",
   "metadata": {},
   "source": [
    "\n",
    "#### 1. 반올림 오차 (round-off error)\n",
    "\n",
    "- "
   ]
  },
  {
   "cell_type": "code",
   "execution_count": 8,
   "metadata": {},
   "outputs": [
    {
     "name": "stdout",
     "output_type": "stream",
     "text": [
      "3.141592653589793\n",
      "9.8596\n",
      "9.869600294464002\n",
      "error between pi2^2, pi6^2 : 0.010000294464001414\n"
     ]
    }
   ],
   "source": [
    "import numpy as np\n",
    "\n",
    "pi = np.pi\n",
    "pi2 = 3.14\n",
    "pi6 = 3.141592\n",
    "\n",
    "print(pi)\n",
    "print(pi2*pi2)\n",
    "print(pi6*pi6)\n",
    "pi2s = pi2*pi2\n",
    "pi6s = pi6*pi6\n",
    "error = pi6s - pi2s\n",
    "print(f'error between pi2^2, pi6^2 : {error}')"
   ]
  },
  {
   "cell_type": "markdown",
   "metadata": {},
   "source": [
    "\n",
    "#### 2. 절단 오차 (truncation error)"
   ]
  },
  {
   "cell_type": "markdown",
   "metadata": {},
   "source": [
    "#### Taylor 급수\n",
    "- 복잡한 함수를 비교적 간단한 함수들의 집합으로 반환시켜 사용하기에 편리하도록 하는 것.\n",
    ">$f(a) = c_0$    \n",
    "> $f^\\prime(a) = c_1$    \n",
    "> $f^{\\prime\\prime}(a) = 2c_2$    \n",
    "> $f^{\\prime\\prime\\prime}(a) = 6c_3$     \n",
    "> $f(x) = f(a) + f^\\prime + \\frac{f^{\\prime\\prime}(a)}{2!}(x-a)^2 + \\frac{f^{\\prime\\prime\\prime}(a)}{3!}(x-a)^3 + ...$"
   ]
  },
  {
   "cell_type": "code",
   "execution_count": 28,
   "metadata": {},
   "outputs": [
    {
     "name": "stdout",
     "output_type": "stream",
     "text": [
      "1번 째 테일러 급수 오차 : 63.21%\n",
      "2번 째 테일러 급수 오차 : 26.42%\n",
      "3번 째 테일러 급수 오차 : 8.03%\n",
      "4번 째 테일러 급수 오차 : 1.90%\n",
      "5번 째 테일러 급수 오차 : 0.37%\n",
      "6번 째 테일러 급수 오차 : 0.06%\n",
      "7번 째 테일러 급수 오차 : 0.01%\n",
      "8번 째 테일러 급수 오차 : 0.00%\n",
      "9번 째 테일러 급수 오차 : 0.00%\n",
      "10번 째 테일러 급수 오차 : 0.00%\n"
     ]
    }
   ],
   "source": [
    "fac = 1\n",
    "x = 1\n",
    "tay = [1 for _ in range(10)]\n",
    "for i in range(1, 10):\n",
    "    fac *= i\n",
    "    tay[i] = tay[i-1] + pow(x,i)/fac\n",
    "\n",
    "exact = np.exp(x)\n",
    "for idx, i in enumerate(tay):\n",
    "    err = abs((i - exact)/exact * 100)\n",
    "    print(f'{idx+1}번 째 테일러 급수 오차 : {err:0.2f}%')"
   ]
  },
  {
   "cell_type": "code",
   "execution_count": 30,
   "metadata": {},
   "outputs": [],
   "source": [
    "fac = 1\n",
    "x = 1\n",
    "tay = [1 for _ in range(10)]\n",
    "\n",
    "for i in range(2, 10, 2):\n",
    "    fac *= i*(i-1)\n",
    "    tay[i/2] = tay \n",
    "    \n"
   ]
  }
 ],
 "metadata": {
  "kernelspec": {
   "display_name": "Python 3.10.7 64-bit",
   "language": "python",
   "name": "python3"
  },
  "language_info": {
   "codemirror_mode": {
    "name": "ipython",
    "version": 3
   },
   "file_extension": ".py",
   "mimetype": "text/x-python",
   "name": "python",
   "nbconvert_exporter": "python",
   "pygments_lexer": "ipython3",
   "version": "3.10.7"
  },
  "orig_nbformat": 4,
  "vscode": {
   "interpreter": {
    "hash": "11705b00557649c2ab2263af14686c27a24b2cec0cd0adde932d16ea4aa3435f"
   }
  }
 },
 "nbformat": 4,
 "nbformat_minor": 2
}

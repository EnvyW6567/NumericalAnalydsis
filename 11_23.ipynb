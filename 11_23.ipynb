{
 "cells": [
  {
   "cell_type": "markdown",
   "metadata": {},
   "source": [
    "### 회귀법\n",
    "\n",
    "##### 종속변수와 독립변수간의 관계를 알아보기 위한 방법으로 다음과 같은 종류가 있다.\n",
    "-  1) 선형 회귀 Linear-Regression\n",
    "-  2) 비선형 회귀 Non-Lenear-Regression\n",
    "-  3) 다항식 회귀 Polynomial"
   ]
  },
  {
   "cell_type": "markdown",
   "metadata": {},
   "source": [
    "- 선형 회귀식\n",
    "> $y = \\beta_{0} + \\beta_{1}x$ .   \n",
    "> $e = y - (\\beta_{0} + \\beta_{1}x) = y - \\hat{y}$ .     \n",
    "\n",
    "error 즉, 오차의 합이 최소가 되는 선형 회귀식을 구하는 것이 선형 회귀법의 원리이다.    \n",
    "이러한 error를 측정할 때 최소자승법을 통해 측정한다.    \n",
    "\n",
    "- 최소자승법 Least-squared Method\n",
    "> $\\epsilon = \\displaystyle\\sum_{i=1}^{n}\\epsilon_{i}^{2} = \\displaystyle\\sum_{i=1}^{n}[y_i - (\\beta_0 + \\beta_1x_i)]^2$  "
   ]
  },
  {
   "cell_type": "markdown",
   "metadata": {},
   "source": []
  }
 ],
 "metadata": {
  "kernelspec": {
   "display_name": "deeplearning",
   "language": "python",
   "name": "deeplearning"
  },
  "language_info": {
   "name": "python",
   "version": "3.10.6"
  },
  "orig_nbformat": 4
 },
 "nbformat": 4,
 "nbformat_minor": 2
}

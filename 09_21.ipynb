{
 "cells": [
  {
   "cell_type": "markdown",
   "metadata": {},
   "source": [
    "## 수치해석 보고서\n",
    "### 목적 : 수치해석에 대한 내용을 Markdown으로 정리한다.\n",
    "\n",
    "\n",
    "#### 수치해석의 기본 과정\n",
    "1. 알고리즘에 대한 이해\n",
    "2. 프로그램 작성\n",
    "3. 프로그램 실행 및 검증\n",
    "\n",
    "#### 예제 : 다음에 주어진 방정식의 해를 구하시오.\n",
    "> $x e^{-x} + 1 = 0$\n",
    "\n",
    "다음은 반복적인 과정을 반복하여 문제를 해결하는 방법이다.\n",
    "\n",
    "\\begin{equation}\n",
    "    x^{(k+1)}_i = x^{(k)}_i - \\frac{5x^{(k)} - 3}{5}\n",
    "\\end{equation}\n",
    "\n",
    "#### 예제 : 다음에 주어진 연립 방정식의 해를 구하시오.\n",
    "> Ax = b, \n",
    "여기서\n",
    "\\begin{equation}\n",
    "    A = \\begin{bmatrix}\n",
    "        1 & 2 \\\\\n",
    "        3 & 4\n",
    "    \\end{bmatrix}\n",
    "    B = \\begin{pmatrix}\n",
    "        99 \\\\ 100\n",
    "    \\end{pmatrix}\n",
    "\\end{equation}\n",
    "\n",
    "연립 방정식의 해는 다음과 같이 계산할 수 있다.\n",
    "\\begin{equation}\n",
    "    x = A^{-1}b\n",
    "\\end{equation}\n",
    "따라서,\n",
    "\\begin{equation}\n",
    "    A = \\begin{bmatrix}\n",
    "        1 & 2 \\\\\n",
    "        3 & 4\n",
    "    \\end{bmatrix}^{-1}\n",
    "    B = \\begin{pmatrix}\n",
    "        99 \\\\ 100\n",
    "    \\end{pmatrix}\n",
    "\\end{equation}\n",
    "\n",
    "#### 결론 : Markdown으로 작성한 수치해석 보고서를 제출합니다."
   ]
  }
 ],
 "metadata": {
  "kernelspec": {
   "display_name": "Python 3.10.7 64-bit",
   "language": "python",
   "name": "python3"
  },
  "language_info": {
   "codemirror_mode": {
    "name": "ipython",
    "version": 3
   },
   "file_extension": ".py",
   "mimetype": "text/x-python",
   "name": "python",
   "nbconvert_exporter": "python",
   "pygments_lexer": "ipython3",
   "version": "3.10.7"
  },
  "orig_nbformat": 4,
  "vscode": {
   "interpreter": {
    "hash": "11705b00557649c2ab2263af14686c27a24b2cec0cd0adde932d16ea4aa3435f"
   }
  }
 },
 "nbformat": 4,
 "nbformat_minor": 2
}

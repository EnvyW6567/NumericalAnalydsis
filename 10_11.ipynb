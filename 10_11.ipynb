{
 "cells": [
  {
   "cell_type": "markdown",
   "metadata": {},
   "source": [
    "# 공학수치해석 과제\n",
    "### 10/11\n",
    "#### 작성자 : 32171373 노병우"
   ]
  },
  {
   "cell_type": "markdown",
   "metadata": {},
   "source": [
    "### 5.5 연습문제"
   ]
  },
  {
   "cell_type": "code",
   "execution_count": 13,
   "metadata": {},
   "outputs": [
    {
     "name": "stdout",
     "output_type": "stream",
     "text": [
      "[1, 3.1, 7.510000000000001, 16.771, 36.219100000000005, 77.06011000000001, 162.82623100000004, 342.9350851000001, 721.1636787100002, 1515.4437252910006, 3183.4318231111015]\n"
     ]
    }
   ],
   "source": [
    "# 3번문제\n",
    "\n",
    "N = 10\n",
    "x = []\n",
    "x.append(1)\n",
    "\n",
    "for i in range(N):\n",
    "    x.append(x[i]*2.1 + 1) \n",
    "print(x)"
   ]
  },
  {
   "cell_type": "code",
   "execution_count": 14,
   "metadata": {},
   "outputs": [
    {
     "name": "stdout",
     "output_type": "stream",
     "text": [
      "[1, 0.10000000000000009, -0.8899999999999999, -1.979, -3.1769000000000003, -4.4945900000000005, -5.944049000000001, -7.538453900000001, -9.292299290000003, -11.221529219000004, -13.343682140900006]\n"
     ]
    }
   ],
   "source": [
    "# 5번문제\n",
    "\n",
    "N = 10\n",
    "x = []\n",
    "x.append(1)\n",
    "\n",
    "for i in range(N):\n",
    "    x.append(x[i]*1.1 - 1) \n",
    "print(x)"
   ]
  },
  {
   "cell_type": "code",
   "execution_count": 17,
   "metadata": {},
   "outputs": [
    {
     "name": "stdout",
     "output_type": "stream",
     "text": [
      "[1, 0.30000000000000004, -0.6099999999999999, -1.7929999999999997, -3.3308999999999997, -5.33017, -7.929221, -11.3079873, -15.700383490000002, -21.410498537000002, -28.833648098100003]\n"
     ]
    }
   ],
   "source": [
    "# 7번문제\n",
    "\n",
    "N = 10\n",
    "x = []\n",
    "x.append(1)\n",
    "\n",
    "for i in range(N):\n",
    "    x.append(x[i]*1.3 - 1) \n",
    "print(x)"
   ]
  },
  {
   "cell_type": "code",
   "execution_count": 68,
   "metadata": {},
   "outputs": [
    {
     "name": "stdout",
     "output_type": "stream",
     "text": [
      "[1, 0.1, 0.010000000000000002, 0.0010000000000000002, 0.00010000000000000003, 1.0000000000000004e-05, 1.0000000000000004e-06, 1.0000000000000005e-07, 1.0000000000000005e-08, 1.0000000000000005e-09, 1.0000000000000006e-10]\n"
     ]
    }
   ],
   "source": [
    "# 9번문제\n",
    "\n",
    "N = 10\n",
    "x = []\n",
    "x.append(1)\n",
    "\n",
    "for i in range(N):\n",
    "    x.append(x[i]*0.1) \n",
    "print(x)"
   ]
  },
  {
   "cell_type": "markdown",
   "metadata": {},
   "source": [
    "3, 5, 7 번 문제의 값을 보면 지속적으로 커지는걸 볼 수 있다.\n",
    "\n",
    "9번의 경우 값이 계속해서 작아진다.\n",
    "\n",
    "이로 미루어보아 3, 5, 7 번은 발산, 9번은 0에 수렴함을 예측할 수 있다."
   ]
  },
  {
   "cell_type": "markdown",
   "metadata": {},
   "source": [
    "### 6장 예제"
   ]
  },
  {
   "cell_type": "code",
   "execution_count": 63,
   "metadata": {},
   "outputs": [
    {
     "name": "stdout",
     "output_type": "stream",
     "text": [
      "taylor\n",
      "1 term(s) : 1.0000\n",
      "2 term(s) : 2.0000\n",
      "3 term(s) : 2.5000\n",
      "4 term(s) : 2.6667\n",
      "5 term(s) : 2.7083\n",
      "errors\n",
      "1 term(s) : -63.2\n",
      "2 term(s) : -26.4\n",
      "3 term(s) : -8.0\n",
      "4 term(s) : -1.9\n",
      "5 term(s) : -0.4\n"
     ]
    }
   ],
   "source": [
    "# 예제 2\n",
    "\n",
    "import numpy as np\n",
    "x = 1.0\n",
    "\n",
    "#Taylot series of exp(x)\n",
    "\n",
    "tay1 = 1\n",
    "tay2 = tay1 + x\n",
    "tay3 = tay2 + x**2/2\n",
    "tay4 = tay3 + x**3/6\n",
    "tay5 = tay4 + x**4/24\n",
    "\n",
    "print(\"taylor\")\n",
    "print(f'1 term(s) : {tay1:0.4f}')\n",
    "print(f'2 term(s) : {tay2:0.4f}')\n",
    "print(f'3 term(s) : {tay3:0.4f}')\n",
    "print(f'4 term(s) : {tay4:0.4f}')\n",
    "print(f'5 term(s) : {tay5:0.4f}')\n",
    "\n",
    "#Errors\n",
    "\n",
    "exact = np.exp(x)\n",
    "\n",
    "err1 = (tay1 - exact)/exact * 100\n",
    "err2 = (tay2 - exact)/exact * 100\n",
    "err3 = (tay3 - exact)/exact * 100\n",
    "err4 = (tay4 - exact)/exact * 100\n",
    "err5 = (tay5 - exact)/exact * 100\n",
    "print(\"errors\")\n",
    "print(f'1 term(s) : {abs(err1):0.1f}')\n",
    "print(f'2 term(s) : {abs(err2):0.1f}')\n",
    "print(f'3 term(s) : {abs(err3):0.1f}')\n",
    "print(f'4 term(s) : {abs(err4):0.1f}')\n",
    "print(f'5 term(s) : {abs(err5):0.1f}')"
   ]
  },
  {
   "cell_type": "code",
   "execution_count": 1,
   "metadata": {},
   "outputs": [
    {
     "name": "stdout",
     "output_type": "stream",
     "text": [
      "taylor\n",
      "1 term(s) : 1.0000\n",
      "2 term(s) : 0.5000\n",
      "3 term(s) : 0.5417\n",
      "4 term(s) : 0.5403\n",
      "5 term(s) : 0.5403\n",
      "errors\n",
      "1 term(s) : 85.1\n",
      "2 term(s) : 7.5\n",
      "3 term(s) : 0.3\n",
      "4 term(s) : 0.0\n",
      "5 term(s) : 0.0\n"
     ]
    }
   ],
   "source": [
    "# 예제 3\n",
    "\n",
    "import numpy as np\n",
    "x = 1.0\n",
    "\n",
    "#Taylot series of cos(x)\n",
    "\n",
    "tay1 = 1\n",
    "tay2 = tay1 - x**2/2\n",
    "tay3 = tay2 + x**4/24\n",
    "tay4 = tay3 - x**6/720\n",
    "tay5 = tay4 + x**8/40320\n",
    "\n",
    "print(\"taylor\")\n",
    "print(f'1 term(s) : {tay1:0.4f}')\n",
    "print(f'2 term(s) : {tay2:0.4f}')\n",
    "print(f'3 term(s) : {tay3:0.4f}')\n",
    "print(f'4 term(s) : {tay4:0.4f}')\n",
    "print(f'5 term(s) : {tay5:0.4f}')\n",
    "\n",
    "#Errors\n",
    "\n",
    "exact = np.cos(x)\n",
    "\n",
    "err1 = (tay1 - exact)/exact * 100\n",
    "err2 = (tay2 - exact)/exact * 100\n",
    "err3 = (tay3 - exact)/exact * 100\n",
    "err4 = (tay4 - exact)/exact * 100\n",
    "err5 = (tay5 - exact)/exact * 100\n",
    "print(\"errors\")\n",
    "print(f'1 term(s) : {abs(err1):0.1f}')\n",
    "print(f'2 term(s) : {abs(err2):0.1f}')\n",
    "print(f'3 term(s) : {abs(err3):0.1f}')\n",
    "print(f'4 term(s) : {abs(err4):0.1f}')\n",
    "print(f'5 term(s) : {abs(err5):0.1f}')"
   ]
  },
  {
   "cell_type": "markdown",
   "metadata": {},
   "source": [
    "### 6.3 연습문제\n",
    "### 1번) $\\cos{x}$의 테일러 급수\n",
    "각 항의 규칙성을 파악하여 테일러 급수를 도출한 코드는 다음과 같다."
   ]
  },
  {
   "cell_type": "code",
   "execution_count": 61,
   "metadata": {},
   "outputs": [
    {
     "name": "stdout",
     "output_type": "stream",
     "text": [
      "1번 째 테일러 급수 : 1 오차 : 85.0816%\n",
      "2번 째 테일러 급수 : 0.5 오차 : 7.4592%\n",
      "3번 째 테일러 급수 : 0.5416666666666666 오차 : 0.2525%\n",
      "4번 째 테일러 급수 : 0.5402777777777777 오차 : 0.0045%\n",
      "5번 째 테일러 급수 : 0.5403025793650793 오차 : 0.0001%\n",
      "6번 째 테일러 급수 : 0.540302303791887 오차 : 0.0000%\n",
      "7번 째 테일러 급수 : 0.5403023058795627 오차 : 0.0000%\n",
      "8번 째 테일러 급수 : 0.540302305868092 오차 : 0.0000%\n",
      "9번 째 테일러 급수 : 0.5403023058681398 오차 : 0.0000%\n",
      "10번 째 테일러 급수 : 0.5403023058681397 오차 : 0.0000%\n"
     ]
    }
   ],
   "source": [
    "fac = 1\n",
    "taylor = []\n",
    "taylor.append(1)\n",
    "for k in range(1, 10):\n",
    "    fac *= (2*k) * (2*k-1)\n",
    "    value = taylor[k-1] + pow(-1, k) / fac\n",
    "    taylor.append(value)\n",
    "\n",
    "x = 1.0\n",
    "exact = np.cos(x)\n",
    "\n",
    "for idx, i in enumerate(taylor):\n",
    "    err = abs((i - exact)/exact * 100)\n",
    "    print(f'{idx+1}번 째 테일러 급수 : {taylor[idx]} 오차 : {err:0.4f}%') \n"
   ]
  },
  {
   "cell_type": "markdown",
   "metadata": {},
   "source": [
    "이를 토대로 추론한 테일러 급수는 다음과 같다.\n",
    "\n",
    "> $\\cos{x} = \\frac{(-1)^k}{(2k)!}x^{2k}$"
   ]
  },
  {
   "cell_type": "markdown",
   "metadata": {},
   "source": [
    "### 2번) $sinx$의 테일러 급수\n",
    "\n",
    "각 항의 규칙성을 파악하여 테일러 급수를 도출한 코드는 다음과 같다."
   ]
  },
  {
   "cell_type": "code",
   "execution_count": 75,
   "metadata": {},
   "outputs": [
    {
     "name": "stdout",
     "output_type": "stream",
     "text": [
      "0번 째 테일러 급수 : 1 오차 : 18.8395%\n",
      "1번 째 테일러 급수 : 0.8333333333333334 오차 : 0.9671%\n",
      "2번 째 테일러 급수 : 0.8416666666666667 오차 : 0.0233%\n",
      "3번 째 테일러 급수 : 0.841468253968254 오차 : 0.0003%\n",
      "4번 째 테일러 급수 : 0.8414710097001764 오차 : 0.0000%\n",
      "5번 째 테일러 급수 : 0.841470984648068 오차 : 0.0000%\n",
      "6번 째 테일러 급수 : 0.8414709848086585 오차 : 0.0000%\n",
      "7번 째 테일러 급수 : 0.8414709848078937 오차 : 0.0000%\n",
      "8번 째 테일러 급수 : 0.8414709848078965 오차 : 0.0000%\n",
      "9번 째 테일러 급수 : 0.8414709848078965 오차 : 0.0000%\n"
     ]
    }
   ],
   "source": [
    "fac = 1 # fac >> (2k + 1)!\n",
    "taylor = [] # taylor 급수 list\n",
    "taylor.append(1) # taylor[0] = 1\n",
    "\n",
    "for k in range(1, 10):\n",
    "    fac = fac * (2*k) * (2*k+1)\n",
    "    value = taylor[k-1] + pow(-1, k) / fac\n",
    "    taylor.append(value)\n",
    "\n",
    "x = 1.0\n",
    "exact = np.sin(x)\n",
    "\n",
    "for idx, i in enumerate(taylor):\n",
    "    err = abs((i - exact)/exact * 100)\n",
    "    print(f'{idx}번 째 테일러 급수 : {taylor[idx]} 오차 : {err:0.4f}%')"
   ]
  },
  {
   "cell_type": "markdown",
   "metadata": {},
   "source": [
    "이를 토대로 추론한 테일러 급수는 다음과 같다.\n",
    "\n",
    "> $\\sin{x} = \\frac{(-1)^k}{(2k+1)!}x^{2k+1}$"
   ]
  },
  {
   "cell_type": "markdown",
   "metadata": {},
   "source": [
    "### 3번) $e^xsinx$ 의 테일러 급수\n",
    "\n",
    "- 이번 문제의 접근은 위 두 문제와는 다르게 접근한다. 1, 2번 문제는 해당 급수의 규칙성을 파악하여 접근하였다면 이번 문제는 테일러 급수를 직접 산출하여 계산한다."
   ]
  },
  {
   "cell_type": "markdown",
   "metadata": {},
   "source": [
    "$e^xsinx = \\frac{1}{2i}(e^{(1+i)x} - e^{(1-i)x})$   \n",
    "\n",
    "$= \\displaystyle\\sum_k\\frac{((1+i)^k - \\overline{(1+i)^k})}{2i}\\frac{x^k}{k!}$   \n",
    "\n",
    "$= \\displaystyle\\sum_k\\displaystyle\\lim(1+i)^k\\frac{x^k}{k!}$\n",
    "\n",
    "$= \\displaystyle\\sum_k\\frac{\\sqrt{2^k}}{k!}\\sin{(\\frac{k\\pi}{4})}x^k$\n",
    "\n",
    "이를 파이썬 코드로 구현한다.\n"
   ]
  },
  {
   "cell_type": "code",
   "execution_count": 76,
   "metadata": {},
   "outputs": [
    {
     "name": "stdout",
     "output_type": "stream",
     "text": [
      "1번 째 테일러 급수 : 0 오차 : 100.0000%\n",
      "2번 째 테일러 급수 : 1.0000000000000002 오차 : 56.2814%\n",
      "3번 째 테일러 급수 : 2.0 오차 : 12.5628%\n",
      "4번 째 테일러 급수 : 2.3333333333333335 오차 : 2.0101%\n",
      "5번 째 테일러 급수 : 2.3333333333333335 오차 : 2.0101%\n",
      "6번 째 테일러 급수 : 2.3000000000000003 오차 : 0.5528%\n",
      "7번 째 테일러 급수 : 2.288888888888889 오차 : 0.0670%\n",
      "8번 째 테일러 급수 : 2.2873015873015876 오차 : 0.0023%\n",
      "9번 째 테일러 급수 : 2.2873015873015876 오차 : 0.0023%\n",
      "10번 째 테일러 급수 : 2.287345679012346 오차 : 0.0004%\n"
     ]
    }
   ],
   "source": [
    "fac = 1 # fac >> k!\n",
    "taylor = [] # taylor 급수 list\n",
    "taylor.append(0) # taylor[0] = 0 \n",
    "\n",
    "for k in range(1, 10):\n",
    "    fac *= k\n",
    "    value = taylor[k-1] + (pow(2,k/2) * np.sin(k * np.pi / 4)) / fac\n",
    "    taylor.append(value)\n",
    "\n",
    "x = 1.0\n",
    "exact = np.exp(x) * np.sin(x)\n",
    "\n",
    "for idx, i in enumerate(taylor):\n",
    "    err = abs((i - exact)/exact * 100)\n",
    "    print(f'{idx+1}번 째 테일러 급수 : {taylor[idx]} 오차 : {err:0.4f}%')"
   ]
  }
 ],
 "metadata": {
  "kernelspec": {
   "display_name": "Python 3.10.7 64-bit",
   "language": "python",
   "name": "python3"
  },
  "language_info": {
   "codemirror_mode": {
    "name": "ipython",
    "version": 3
   },
   "file_extension": ".py",
   "mimetype": "text/x-python",
   "name": "python",
   "nbconvert_exporter": "python",
   "pygments_lexer": "ipython3",
   "version": "3.10.7"
  },
  "orig_nbformat": 4,
  "vscode": {
   "interpreter": {
    "hash": "11705b00557649c2ab2263af14686c27a24b2cec0cd0adde932d16ea4aa3435f"
   }
  }
 },
 "nbformat": 4,
 "nbformat_minor": 2
}
